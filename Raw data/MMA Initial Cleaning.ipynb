{
 "cells": [
  {
   "cell_type": "markdown",
   "id": "93ce80b5",
   "metadata": {},
   "source": [
    "# Import libraries"
   ]
  },
  {
   "cell_type": "code",
   "execution_count": 1,
   "id": "40850509",
   "metadata": {},
   "outputs": [],
   "source": [
    "import pandas as pd\n",
    "import re\n",
    "import numpy as np\n",
    "import seaborn as sns\n",
    "import matplotlib.pyplot as plt\n",
    "\n",
    "pd.set_option(\"display.max_columns\", None)"
   ]
  },
  {
   "cell_type": "markdown",
   "id": "36fc8589",
   "metadata": {},
   "source": [
    "# Import datasets"
   ]
  },
  {
   "cell_type": "code",
   "execution_count": 2,
   "id": "0579d4f9",
   "metadata": {},
   "outputs": [],
   "source": [
    "fight_stats = pd.read_csv('ufc_fight_stats.csv')\n",
    "fight_results = pd.read_csv('ufc_fight_results.csv')\n",
    "fighter_stats = pd.read_csv('ufc_fighter_tott.csv')\n",
    "fighter_links = pd.read_csv('ufc.csv')\n",
    "fight_event_details = pd.read_csv('ufc_event_details.csv')"
   ]
  },
  {
   "cell_type": "code",
   "execution_count": 3,
   "id": "d3b7793a",
   "metadata": {},
   "outputs": [
    {
     "data": {
      "text/plain": [
       "((32534, 19), (6984, 11), (3929, 7))"
      ]
     },
     "execution_count": 3,
     "metadata": {},
     "output_type": "execute_result"
    }
   ],
   "source": [
    "fight_stats.shape, fight_results.shape, fighter_stats.shape"
   ]
  },
  {
   "cell_type": "markdown",
   "id": "2dfe827c",
   "metadata": {},
   "source": [
    "# Functions"
   ]
  },
  {
   "cell_type": "code",
   "execution_count": 4,
   "id": "6640bed0",
   "metadata": {},
   "outputs": [],
   "source": [
    "def create_data_dictionary(data_full):\n",
    "    '''\n",
    "    Function for getting the dataframe for data dictionary\n",
    "\n",
    "    INPUT: dataframe\n",
    "    OUTPUT: dataframe (with info for data dictionary)\n",
    "    '''\n",
    "    column_list = data_full.columns.tolist()\n",
    "    # unique value count\n",
    "    uni_val_count = []\n",
    "    for i in column_list:\n",
    "        uni_val_count.append(len(data_full[i].unique()))\n",
    "    # unique value \n",
    "    uni_val = []\n",
    "    for i in column_list:\n",
    "        uni_val.append(data_full[i].unique()[0:6])\n",
    "    # NULL count\n",
    "    null_count = []\n",
    "    for i in column_list:\n",
    "        print(data_full[data_full[i].isnull()==True])\n",
    "        null_count.append((data_full[data_full[i].isnull()==True]).shape[0])\n",
    "    if len(column_list) == len(uni_val_count) == len(uni_val) == len(null_count):\n",
    "        result_data = pd.DataFrame({'column': column_list,\n",
    "                                    'Unique value count': uni_val_count,\n",
    "                                    'Unique valuer': uni_val,\n",
    "                                    'NULL count': null_count})\n",
    "    else:\n",
    "        result_data = 'ERROR!!'\n",
    "\n",
    "    return result_data"
   ]
  },
  {
   "cell_type": "code",
   "execution_count": 5,
   "id": "e3e61c24",
   "metadata": {},
   "outputs": [],
   "source": [
    "def minute_to_second(time):\n",
    "    '''\n",
    "    INPUT: str? (12:32)\n",
    "    OUTPUT: int (752)\n",
    "    \n",
    "    '''\n",
    "    if ':' in str(time):\n",
    "        time = str(time)\n",
    "        time_splitted = time.split(':')\n",
    "        result = int(time_splitted[0])*60 + int(time_splitted[1])\n",
    "    else:\n",
    "        result = np.nan\n",
    "\n",
    "    return result"
   ]
  },
  {
   "cell_type": "code",
   "execution_count": 6,
   "id": "7f6b70f6",
   "metadata": {},
   "outputs": [],
   "source": [
    "def height_to_inches(ht):\n",
    "    # format: 7' 0.0\"\n",
    "    ht_ = ht.split(\"' \")\n",
    "    if (len(ht_)== 2):\n",
    "        ft_ = float(ht_[0])\n",
    "        in_ = float(ht_[1].replace(\"\\\"\",\"\"))\n",
    "        return (12*ft_) + in_"
   ]
  },
  {
   "cell_type": "code",
   "execution_count": 7,
   "id": "6fe26ccd",
   "metadata": {},
   "outputs": [],
   "source": [
    "def opponent(x):\n",
    "    bout_splitted = str(x['BOUT']).split(' vs. ')\n",
    "    if bout_splitted[0] == x['FIGHTER']:\n",
    "        return bout_splitted[1]\n",
    "    else:\n",
    "        return bout_splitted[0]"
   ]
  },
  {
   "cell_type": "markdown",
   "id": "12204bc2",
   "metadata": {},
   "source": [
    "# fight_stats"
   ]
  },
  {
   "cell_type": "code",
   "execution_count": 8,
   "id": "71690a20",
   "metadata": {},
   "outputs": [],
   "source": [
    "fight_stats_copy = fight_stats.copy()\n",
    "fight_stats_copy['EVENT'] = fight_stats_copy['EVENT'].map(lambda cell: re.sub(\"\\s+\", \" \", cell.strip()))\n",
    "fight_stats_copy['BOUT'] = fight_stats_copy['BOUT'].map(lambda cell: re.sub(\"\\s+\", \" \", cell.strip()))"
   ]
  },
  {
   "cell_type": "code",
   "execution_count": 9,
   "id": "55b092d5",
   "metadata": {},
   "outputs": [
    {
     "data": {
      "text/html": [
       "<div>\n",
       "<style scoped>\n",
       "    .dataframe tbody tr th:only-of-type {\n",
       "        vertical-align: middle;\n",
       "    }\n",
       "\n",
       "    .dataframe tbody tr th {\n",
       "        vertical-align: top;\n",
       "    }\n",
       "\n",
       "    .dataframe thead th {\n",
       "        text-align: right;\n",
       "    }\n",
       "</style>\n",
       "<table border=\"1\" class=\"dataframe\">\n",
       "  <thead>\n",
       "    <tr style=\"text-align: right;\">\n",
       "      <th></th>\n",
       "      <th>EVENT</th>\n",
       "      <th>BOUT</th>\n",
       "      <th>ROUND</th>\n",
       "      <th>FIGHTER</th>\n",
       "      <th>KD</th>\n",
       "      <th>SIG.STR.</th>\n",
       "      <th>SIG.STR. %</th>\n",
       "      <th>TOTAL STR.</th>\n",
       "      <th>TD</th>\n",
       "      <th>TD %</th>\n",
       "      <th>SUB.ATT</th>\n",
       "      <th>REV.</th>\n",
       "      <th>CTRL</th>\n",
       "      <th>HEAD</th>\n",
       "      <th>BODY</th>\n",
       "      <th>LEG</th>\n",
       "      <th>DISTANCE</th>\n",
       "      <th>CLINCH</th>\n",
       "      <th>GROUND</th>\n",
       "    </tr>\n",
       "  </thead>\n",
       "  <tbody>\n",
       "    <tr>\n",
       "      <th>0</th>\n",
       "      <td>UFC Fight Night: Muniz vs. Allen</td>\n",
       "      <td>Andre Muniz vs. Brendan Allen</td>\n",
       "      <td>Round 1</td>\n",
       "      <td>Andre Muniz</td>\n",
       "      <td>0.0</td>\n",
       "      <td>16 of 40</td>\n",
       "      <td>40%</td>\n",
       "      <td>16 of 40</td>\n",
       "      <td>0 of 1</td>\n",
       "      <td>0%</td>\n",
       "      <td>0.0</td>\n",
       "      <td>0.0</td>\n",
       "      <td>0:07</td>\n",
       "      <td>7 of 28</td>\n",
       "      <td>5 of 7</td>\n",
       "      <td>4 of 5</td>\n",
       "      <td>16 of 39</td>\n",
       "      <td>0 of 1</td>\n",
       "      <td>0 of 0</td>\n",
       "    </tr>\n",
       "    <tr>\n",
       "      <th>1</th>\n",
       "      <td>UFC Fight Night: Muniz vs. Allen</td>\n",
       "      <td>Andre Muniz vs. Brendan Allen</td>\n",
       "      <td>Round 2</td>\n",
       "      <td>Andre Muniz</td>\n",
       "      <td>0.0</td>\n",
       "      <td>11 of 34</td>\n",
       "      <td>32%</td>\n",
       "      <td>13 of 36</td>\n",
       "      <td>0 of 2</td>\n",
       "      <td>0%</td>\n",
       "      <td>0.0</td>\n",
       "      <td>0.0</td>\n",
       "      <td>0:08</td>\n",
       "      <td>7 of 30</td>\n",
       "      <td>1 of 1</td>\n",
       "      <td>3 of 3</td>\n",
       "      <td>11 of 34</td>\n",
       "      <td>0 of 0</td>\n",
       "      <td>0 of 0</td>\n",
       "    </tr>\n",
       "    <tr>\n",
       "      <th>2</th>\n",
       "      <td>UFC Fight Night: Muniz vs. Allen</td>\n",
       "      <td>Andre Muniz vs. Brendan Allen</td>\n",
       "      <td>Round 3</td>\n",
       "      <td>Andre Muniz</td>\n",
       "      <td>0.0</td>\n",
       "      <td>16 of 38</td>\n",
       "      <td>42%</td>\n",
       "      <td>16 of 38</td>\n",
       "      <td>0 of 0</td>\n",
       "      <td>---</td>\n",
       "      <td>0.0</td>\n",
       "      <td>0.0</td>\n",
       "      <td>0:00</td>\n",
       "      <td>11 of 30</td>\n",
       "      <td>2 of 5</td>\n",
       "      <td>3 of 3</td>\n",
       "      <td>16 of 38</td>\n",
       "      <td>0 of 0</td>\n",
       "      <td>0 of 0</td>\n",
       "    </tr>\n",
       "    <tr>\n",
       "      <th>3</th>\n",
       "      <td>UFC Fight Night: Muniz vs. Allen</td>\n",
       "      <td>Andre Muniz vs. Brendan Allen</td>\n",
       "      <td>Round 1</td>\n",
       "      <td>Brendan Allen</td>\n",
       "      <td>0.0</td>\n",
       "      <td>19 of 47</td>\n",
       "      <td>40%</td>\n",
       "      <td>19 of 47</td>\n",
       "      <td>0 of 0</td>\n",
       "      <td>---</td>\n",
       "      <td>0.0</td>\n",
       "      <td>0.0</td>\n",
       "      <td>0:00</td>\n",
       "      <td>8 of 32</td>\n",
       "      <td>6 of 9</td>\n",
       "      <td>5 of 6</td>\n",
       "      <td>19 of 47</td>\n",
       "      <td>0 of 0</td>\n",
       "      <td>0 of 0</td>\n",
       "    </tr>\n",
       "    <tr>\n",
       "      <th>4</th>\n",
       "      <td>UFC Fight Night: Muniz vs. Allen</td>\n",
       "      <td>Andre Muniz vs. Brendan Allen</td>\n",
       "      <td>Round 2</td>\n",
       "      <td>Brendan Allen</td>\n",
       "      <td>0.0</td>\n",
       "      <td>12 of 28</td>\n",
       "      <td>42%</td>\n",
       "      <td>25 of 43</td>\n",
       "      <td>0 of 0</td>\n",
       "      <td>---</td>\n",
       "      <td>0.0</td>\n",
       "      <td>0.0</td>\n",
       "      <td>2:44</td>\n",
       "      <td>6 of 22</td>\n",
       "      <td>4 of 4</td>\n",
       "      <td>2 of 2</td>\n",
       "      <td>10 of 24</td>\n",
       "      <td>0 of 0</td>\n",
       "      <td>2 of 4</td>\n",
       "    </tr>\n",
       "    <tr>\n",
       "      <th>...</th>\n",
       "      <td>...</td>\n",
       "      <td>...</td>\n",
       "      <td>...</td>\n",
       "      <td>...</td>\n",
       "      <td>...</td>\n",
       "      <td>...</td>\n",
       "      <td>...</td>\n",
       "      <td>...</td>\n",
       "      <td>...</td>\n",
       "      <td>...</td>\n",
       "      <td>...</td>\n",
       "      <td>...</td>\n",
       "      <td>...</td>\n",
       "      <td>...</td>\n",
       "      <td>...</td>\n",
       "      <td>...</td>\n",
       "      <td>...</td>\n",
       "      <td>...</td>\n",
       "      <td>...</td>\n",
       "    </tr>\n",
       "    <tr>\n",
       "      <th>32529</th>\n",
       "      <td>UFC 2: No Way Out</td>\n",
       "      <td>Johnny Rhodes vs. David Levicki</td>\n",
       "      <td>Round 1</td>\n",
       "      <td>David Levicki</td>\n",
       "      <td>0.0</td>\n",
       "      <td>4 of 5</td>\n",
       "      <td>80%</td>\n",
       "      <td>95 of 102</td>\n",
       "      <td>0 of 0</td>\n",
       "      <td>---</td>\n",
       "      <td>0.0</td>\n",
       "      <td>0.0</td>\n",
       "      <td>--</td>\n",
       "      <td>4 of 5</td>\n",
       "      <td>0 of 0</td>\n",
       "      <td>0 of 0</td>\n",
       "      <td>1 of 2</td>\n",
       "      <td>2 of 2</td>\n",
       "      <td>1 of 1</td>\n",
       "    </tr>\n",
       "    <tr>\n",
       "      <th>32530</th>\n",
       "      <td>UFC 2: No Way Out</td>\n",
       "      <td>Patrick Smith vs. Ray Wizard</td>\n",
       "      <td>Round 1</td>\n",
       "      <td>Patrick Smith</td>\n",
       "      <td>0.0</td>\n",
       "      <td>1 of 1</td>\n",
       "      <td>100%</td>\n",
       "      <td>1 of 1</td>\n",
       "      <td>0 of 1</td>\n",
       "      <td>0%</td>\n",
       "      <td>1.0</td>\n",
       "      <td>0.0</td>\n",
       "      <td>--</td>\n",
       "      <td>0 of 0</td>\n",
       "      <td>1 of 1</td>\n",
       "      <td>0 of 0</td>\n",
       "      <td>0 of 0</td>\n",
       "      <td>1 of 1</td>\n",
       "      <td>0 of 0</td>\n",
       "    </tr>\n",
       "    <tr>\n",
       "      <th>32531</th>\n",
       "      <td>UFC 2: No Way Out</td>\n",
       "      <td>Patrick Smith vs. Ray Wizard</td>\n",
       "      <td>Round 1</td>\n",
       "      <td>Ray Wizard</td>\n",
       "      <td>0.0</td>\n",
       "      <td>1 of 1</td>\n",
       "      <td>100%</td>\n",
       "      <td>2 of 2</td>\n",
       "      <td>0 of 0</td>\n",
       "      <td>---</td>\n",
       "      <td>0.0</td>\n",
       "      <td>0.0</td>\n",
       "      <td>--</td>\n",
       "      <td>0 of 0</td>\n",
       "      <td>0 of 0</td>\n",
       "      <td>1 of 1</td>\n",
       "      <td>1 of 1</td>\n",
       "      <td>0 of 0</td>\n",
       "      <td>0 of 0</td>\n",
       "    </tr>\n",
       "    <tr>\n",
       "      <th>32532</th>\n",
       "      <td>UFC 2: No Way Out</td>\n",
       "      <td>Scott Morris vs. Sean Daugherty</td>\n",
       "      <td>Round 1</td>\n",
       "      <td>Scott Morris</td>\n",
       "      <td>0.0</td>\n",
       "      <td>1 of 1</td>\n",
       "      <td>100%</td>\n",
       "      <td>2 of 2</td>\n",
       "      <td>1 of 1</td>\n",
       "      <td>100%</td>\n",
       "      <td>1.0</td>\n",
       "      <td>0.0</td>\n",
       "      <td>--</td>\n",
       "      <td>1 of 1</td>\n",
       "      <td>0 of 0</td>\n",
       "      <td>0 of 0</td>\n",
       "      <td>0 of 0</td>\n",
       "      <td>1 of 1</td>\n",
       "      <td>0 of 0</td>\n",
       "    </tr>\n",
       "    <tr>\n",
       "      <th>32533</th>\n",
       "      <td>UFC 2: No Way Out</td>\n",
       "      <td>Scott Morris vs. Sean Daugherty</td>\n",
       "      <td>Round 1</td>\n",
       "      <td>Sean Daugherty</td>\n",
       "      <td>0.0</td>\n",
       "      <td>0 of 4</td>\n",
       "      <td>0%</td>\n",
       "      <td>1 of 5</td>\n",
       "      <td>0 of 0</td>\n",
       "      <td>---</td>\n",
       "      <td>0.0</td>\n",
       "      <td>0.0</td>\n",
       "      <td>--</td>\n",
       "      <td>0 of 2</td>\n",
       "      <td>0 of 0</td>\n",
       "      <td>0 of 2</td>\n",
       "      <td>0 of 3</td>\n",
       "      <td>0 of 1</td>\n",
       "      <td>0 of 0</td>\n",
       "    </tr>\n",
       "  </tbody>\n",
       "</table>\n",
       "<p>32534 rows × 19 columns</p>\n",
       "</div>"
      ],
      "text/plain": [
       "                                  EVENT                             BOUT  \\\n",
       "0      UFC Fight Night: Muniz vs. Allen    Andre Muniz vs. Brendan Allen   \n",
       "1      UFC Fight Night: Muniz vs. Allen    Andre Muniz vs. Brendan Allen   \n",
       "2      UFC Fight Night: Muniz vs. Allen    Andre Muniz vs. Brendan Allen   \n",
       "3      UFC Fight Night: Muniz vs. Allen    Andre Muniz vs. Brendan Allen   \n",
       "4      UFC Fight Night: Muniz vs. Allen    Andre Muniz vs. Brendan Allen   \n",
       "...                                 ...                              ...   \n",
       "32529                 UFC 2: No Way Out  Johnny Rhodes vs. David Levicki   \n",
       "32530                 UFC 2: No Way Out     Patrick Smith vs. Ray Wizard   \n",
       "32531                 UFC 2: No Way Out     Patrick Smith vs. Ray Wizard   \n",
       "32532                 UFC 2: No Way Out  Scott Morris vs. Sean Daugherty   \n",
       "32533                 UFC 2: No Way Out  Scott Morris vs. Sean Daugherty   \n",
       "\n",
       "         ROUND         FIGHTER   KD  SIG.STR. SIG.STR. % TOTAL STR.      TD  \\\n",
       "0      Round 1     Andre Muniz  0.0  16 of 40        40%   16 of 40  0 of 1   \n",
       "1      Round 2     Andre Muniz  0.0  11 of 34        32%   13 of 36  0 of 2   \n",
       "2      Round 3     Andre Muniz  0.0  16 of 38        42%   16 of 38  0 of 0   \n",
       "3      Round 1   Brendan Allen  0.0  19 of 47        40%   19 of 47  0 of 0   \n",
       "4      Round 2   Brendan Allen  0.0  12 of 28        42%   25 of 43  0 of 0   \n",
       "...        ...             ...  ...       ...        ...        ...     ...   \n",
       "32529  Round 1   David Levicki  0.0    4 of 5        80%  95 of 102  0 of 0   \n",
       "32530  Round 1   Patrick Smith  0.0    1 of 1       100%     1 of 1  0 of 1   \n",
       "32531  Round 1      Ray Wizard  0.0    1 of 1       100%     2 of 2  0 of 0   \n",
       "32532  Round 1    Scott Morris  0.0    1 of 1       100%     2 of 2  1 of 1   \n",
       "32533  Round 1  Sean Daugherty  0.0    0 of 4         0%     1 of 5  0 of 0   \n",
       "\n",
       "       TD %  SUB.ATT  REV.  CTRL      HEAD    BODY     LEG  DISTANCE  CLINCH  \\\n",
       "0        0%      0.0   0.0  0:07   7 of 28  5 of 7  4 of 5  16 of 39  0 of 1   \n",
       "1        0%      0.0   0.0  0:08   7 of 30  1 of 1  3 of 3  11 of 34  0 of 0   \n",
       "2       ---      0.0   0.0  0:00  11 of 30  2 of 5  3 of 3  16 of 38  0 of 0   \n",
       "3       ---      0.0   0.0  0:00   8 of 32  6 of 9  5 of 6  19 of 47  0 of 0   \n",
       "4       ---      0.0   0.0  2:44   6 of 22  4 of 4  2 of 2  10 of 24  0 of 0   \n",
       "...     ...      ...   ...   ...       ...     ...     ...       ...     ...   \n",
       "32529   ---      0.0   0.0    --    4 of 5  0 of 0  0 of 0    1 of 2  2 of 2   \n",
       "32530    0%      1.0   0.0    --    0 of 0  1 of 1  0 of 0    0 of 0  1 of 1   \n",
       "32531   ---      0.0   0.0    --    0 of 0  0 of 0  1 of 1    1 of 1  0 of 0   \n",
       "32532  100%      1.0   0.0    --    1 of 1  0 of 0  0 of 0    0 of 0  1 of 1   \n",
       "32533   ---      0.0   0.0    --    0 of 2  0 of 0  0 of 2    0 of 3  0 of 1   \n",
       "\n",
       "       GROUND  \n",
       "0      0 of 0  \n",
       "1      0 of 0  \n",
       "2      0 of 0  \n",
       "3      0 of 0  \n",
       "4      2 of 4  \n",
       "...       ...  \n",
       "32529  1 of 1  \n",
       "32530  0 of 0  \n",
       "32531  0 of 0  \n",
       "32532  0 of 0  \n",
       "32533  0 of 0  \n",
       "\n",
       "[32534 rows x 19 columns]"
      ]
     },
     "execution_count": 9,
     "metadata": {},
     "output_type": "execute_result"
    }
   ],
   "source": [
    "fight_stats_copy"
   ]
  },
  {
   "cell_type": "code",
   "execution_count": 10,
   "id": "6af90e02",
   "metadata": {},
   "outputs": [],
   "source": [
    "# fixing the digits\n",
    "columnslist = ['SIG.STR.','TOTAL STR.', 'TD', 'HEAD', 'BODY','LEG', 'DISTANCE', 'CLINCH', 'GROUND']\n",
    "for strike in columnslist:\n",
    "    fight_stats_copy[['ATTEMPTED ' + strike, 'LANDED ' + strike]] = fight_stats[strike].str.extract(\"(\\d+).+(\\d+)\")"
   ]
  },
  {
   "cell_type": "code",
   "execution_count": 11,
   "id": "12821127",
   "metadata": {},
   "outputs": [],
   "source": [
    "# dropping some columns\n",
    "fight_stats_copy = fight_stats_copy.drop(columns = columnslist)"
   ]
  },
  {
   "cell_type": "code",
   "execution_count": 12,
   "id": "98406671",
   "metadata": {},
   "outputs": [],
   "source": [
    "#changing time to seconds\n",
    "fight_stats_copy['CTRL'] =  fight_stats_copy['CTRL'].apply(lambda x: minute_to_second(x))"
   ]
  },
  {
   "cell_type": "markdown",
   "id": "d35015cf",
   "metadata": {},
   "source": [
    "# fight_result"
   ]
  },
  {
   "cell_type": "code",
   "execution_count": 13,
   "id": "3e6fba9e",
   "metadata": {},
   "outputs": [],
   "source": [
    "fight_results_copy = fight_results.copy()"
   ]
  },
  {
   "cell_type": "code",
   "execution_count": 14,
   "id": "fe569032",
   "metadata": {},
   "outputs": [
    {
     "data": {
      "text/plain": [
       "Index(['EVENT', 'BOUT', 'OUTCOME', 'WEIGHTCLASS', 'METHOD', 'ROUND', 'TIME',\n",
       "       'TIME FORMAT', 'REFEREE', 'DETAILS', 'URL'],\n",
       "      dtype='object')"
      ]
     },
     "execution_count": 14,
     "metadata": {},
     "output_type": "execute_result"
    }
   ],
   "source": [
    "fight_results_copy.columns"
   ]
  },
  {
   "cell_type": "code",
   "execution_count": 15,
   "id": "9a896446",
   "metadata": {},
   "outputs": [
    {
     "data": {
      "text/plain": [
       "0       UFC Fight Night: Muniz vs. Allen \n",
       "1       UFC Fight Night: Muniz vs. Allen \n",
       "2       UFC Fight Night: Muniz vs. Allen \n",
       "3       UFC Fight Night: Muniz vs. Allen \n",
       "4       UFC Fight Night: Muniz vs. Allen \n",
       "                      ...                \n",
       "6979                   UFC 2: No Way Out \n",
       "6980                   UFC 2: No Way Out \n",
       "6981                   UFC 2: No Way Out \n",
       "6982                   UFC 2: No Way Out \n",
       "6983                   UFC 2: No Way Out \n",
       "Name: EVENT, Length: 6984, dtype: object"
      ]
     },
     "execution_count": 15,
     "metadata": {},
     "output_type": "execute_result"
    }
   ],
   "source": [
    "fight_results_copy['EVENT']"
   ]
  },
  {
   "cell_type": "code",
   "execution_count": 16,
   "id": "0303653e",
   "metadata": {},
   "outputs": [],
   "source": [
    "fight_results_copy['EVENT'] = fight_results_copy['EVENT'].map(lambda cell: re.sub(\"\\s+\", \" \", cell.strip()))\n",
    "fight_results_copy['BOUT'] = fight_results_copy['BOUT'].map(lambda cell: re.sub(\"\\s+\", \" \", cell.strip()))\n",
    "fight_results_copy['URL'] = fight_results_copy['URL'].map(lambda cell: re.sub(\"\\s+\", \" \", cell.strip()))"
   ]
  },
  {
   "cell_type": "code",
   "execution_count": 17,
   "id": "cc8b0d94",
   "metadata": {},
   "outputs": [],
   "source": [
    "# renaming \n",
    "fight_results_copy = fight_results_copy.rename(columns={'ROUND': 'WIN ROUND', 'URL': 'Fight Result URL'})"
   ]
  },
  {
   "cell_type": "code",
   "execution_count": 18,
   "id": "ad00f247",
   "metadata": {},
   "outputs": [],
   "source": [
    "# minute to second\n",
    "fight_results_copy['TIME'] = fight_results_copy.apply(lambda x: minute_to_second(x['TIME']), axis = 1)"
   ]
  },
  {
   "cell_type": "markdown",
   "id": "3ab731c5",
   "metadata": {},
   "source": [
    "# fighter_stats"
   ]
  },
  {
   "cell_type": "code",
   "execution_count": 19,
   "id": "1abfbe90",
   "metadata": {},
   "outputs": [],
   "source": [
    "fighter_stats_copy = fighter_stats.copy()"
   ]
  },
  {
   "cell_type": "code",
   "execution_count": 20,
   "id": "8c497d2b",
   "metadata": {},
   "outputs": [],
   "source": [
    "# renaming\n",
    "fighter_stats_copy = fighter_stats_copy.rename(columns={'URL': 'Fighter Stats URL'})"
   ]
  },
  {
   "cell_type": "code",
   "execution_count": 21,
   "id": "1c145640",
   "metadata": {},
   "outputs": [],
   "source": [
    "# changing some values\n",
    "fighter_stats_copy['WEIGHT'] = fighter_stats_copy['WEIGHT'].replace('--', '0')\n",
    "fighter_stats_copy['WEIGHT'] = fighter_stats_copy['WEIGHT'].apply(lambda x: str(x).replace(' lbs.', ''))\n",
    "\n",
    "fighter_stats_copy['REACH'] = fighter_stats_copy['REACH'].replace('--', '0')\n",
    "fighter_stats_copy['REACH'] = fighter_stats_copy['REACH'].apply(lambda x: str(x).replace('\"', ''))\n",
    "\n",
    "fighter_stats_copy['HEIGHT'] = fighter_stats_copy['HEIGHT'].replace('--', '0')\n",
    "fighter_stats_copy['HEIGHT'] = fighter_stats_copy[\"HEIGHT\"].apply(lambda x:height_to_inches(x))"
   ]
  },
  {
   "cell_type": "markdown",
   "id": "86075182",
   "metadata": {},
   "source": [
    "# fight_links"
   ]
  },
  {
   "cell_type": "code",
   "execution_count": 22,
   "id": "be6229db",
   "metadata": {},
   "outputs": [],
   "source": [
    "# clean excess string parts"
   ]
  },
  {
   "cell_type": "code",
   "execution_count": 23,
   "id": "bde8487d",
   "metadata": {},
   "outputs": [],
   "source": [
    "fighter_links_copy = fighter_links.copy()"
   ]
  },
  {
   "cell_type": "code",
   "execution_count": 24,
   "id": "4f14666a",
   "metadata": {},
   "outputs": [],
   "source": [
    "# clean white space in merge columns"
   ]
  },
  {
   "cell_type": "code",
   "execution_count": 25,
   "id": "ac8936a5",
   "metadata": {},
   "outputs": [],
   "source": [
    "fighter_links_copy['fight'] = fighter_links_copy['fight'].apply(lambda x: x[5:-1])"
   ]
  },
  {
   "cell_type": "code",
   "execution_count": 26,
   "id": "39cf3608",
   "metadata": {},
   "outputs": [],
   "source": [
    "fighter_links_copy['event'] = fighter_links_copy['event'].apply(lambda x: x[4:-5])"
   ]
  },
  {
   "cell_type": "code",
   "execution_count": 27,
   "id": "53c1bf8e",
   "metadata": {},
   "outputs": [],
   "source": [
    "fighter_links_copy['fight'] = fighter_links_copy['fight'].map(lambda cell: re.sub(\"\\s+\", \" \", cell.strip()))\n",
    "fighter_links_copy['event'] = fighter_links_copy['event'].map(lambda cell: re.sub(\"\\s+\", \" \", cell.strip()))"
   ]
  },
  {
   "cell_type": "code",
   "execution_count": 28,
   "id": "22d0c942",
   "metadata": {},
   "outputs": [],
   "source": [
    "# rename columns to merge "
   ]
  },
  {
   "cell_type": "code",
   "execution_count": 29,
   "id": "a08b0dab",
   "metadata": {},
   "outputs": [],
   "source": [
    "fighter_links_copy = fighter_links_copy.rename(columns={'event': 'EVENT'})"
   ]
  },
  {
   "cell_type": "code",
   "execution_count": 30,
   "id": "a9d9e6b8",
   "metadata": {},
   "outputs": [],
   "source": [
    "fighter_links_copy = fighter_links_copy.rename(columns={'fight': 'Fight Result URL'})"
   ]
  },
  {
   "cell_type": "code",
   "execution_count": 31,
   "id": "29e10d99",
   "metadata": {},
   "outputs": [],
   "source": [
    "fighter_links_copy = fighter_links_copy.rename(columns={'fighter1': 'Fighter Stats URL1'})"
   ]
  },
  {
   "cell_type": "code",
   "execution_count": 32,
   "id": "a91651af",
   "metadata": {},
   "outputs": [],
   "source": [
    "fighter_links_copy = fighter_links_copy.rename(columns={'fighter2': 'Fighter Stats URL2'})"
   ]
  },
  {
   "cell_type": "markdown",
   "id": "a6209519",
   "metadata": {},
   "source": [
    "# fight_event_details"
   ]
  },
  {
   "cell_type": "code",
   "execution_count": 33,
   "id": "0df03d84",
   "metadata": {},
   "outputs": [],
   "source": [
    "fight_event_details_copy = fight_event_details.copy()"
   ]
  },
  {
   "cell_type": "code",
   "execution_count": 34,
   "id": "2338c149",
   "metadata": {},
   "outputs": [],
   "source": [
    "#clean potential whitespace"
   ]
  },
  {
   "cell_type": "code",
   "execution_count": 35,
   "id": "8ca507ab",
   "metadata": {},
   "outputs": [],
   "source": [
    "fight_event_details_copy['EVENT'] = fight_event_details_copy['EVENT'].map(lambda cell: re.sub(\"\\s+\", \" \", cell.strip()))\n",
    "fight_event_details_copy['URL'] = fight_event_details_copy['URL'].map(lambda cell: re.sub(\"\\s+\", \" \", cell.strip()))"
   ]
  },
  {
   "cell_type": "code",
   "execution_count": 36,
   "id": "f2c08173",
   "metadata": {},
   "outputs": [],
   "source": [
    "fight_event_details_copy = fight_event_details_copy.rename(columns={'URL': 'Fight Event URL'})"
   ]
  },
  {
   "cell_type": "markdown",
   "id": "629a8d3f",
   "metadata": {},
   "source": [
    "# fight_stats + fighter_stats + fighter_details + fight_event_details + fight_details + fight_links"
   ]
  },
  {
   "cell_type": "code",
   "execution_count": 37,
   "id": "ab10dcd6",
   "metadata": {},
   "outputs": [],
   "source": [
    "df2 = fighter_stats_copy"
   ]
  },
  {
   "cell_type": "code",
   "execution_count": 38,
   "id": "a3ef6779",
   "metadata": {},
   "outputs": [],
   "source": [
    "df2 = df2.rename(columns={'Fighter Stats URL': 'Fighter Stats URL1'})"
   ]
  },
  {
   "cell_type": "code",
   "execution_count": 39,
   "id": "42415160",
   "metadata": {},
   "outputs": [],
   "source": [
    "df1 = fighter_links_copy"
   ]
  },
  {
   "cell_type": "code",
   "execution_count": 40,
   "id": "aad2f24f",
   "metadata": {},
   "outputs": [],
   "source": [
    "result = pd.merge(df1, df2)"
   ]
  },
  {
   "cell_type": "code",
   "execution_count": 41,
   "id": "121458c7",
   "metadata": {},
   "outputs": [],
   "source": [
    "df2 = df2.rename(columns = {'Fighter Stats URL1': 'Fighter Stats URL2'})"
   ]
  },
  {
   "cell_type": "code",
   "execution_count": 42,
   "id": "0636334a",
   "metadata": {},
   "outputs": [],
   "source": [
    "result = pd.merge(result, df2, on = 'Fighter Stats URL2')"
   ]
  },
  {
   "cell_type": "code",
   "execution_count": 43,
   "id": "a111cbef",
   "metadata": {},
   "outputs": [
    {
     "data": {
      "text/plain": [
       "Index(['FIGHTER', 'HEIGHT', 'WEIGHT', 'REACH', 'STANCE', 'DOB',\n",
       "       'Fighter Stats URL'],\n",
       "      dtype='object')"
      ]
     },
     "execution_count": 43,
     "metadata": {},
     "output_type": "execute_result"
    }
   ],
   "source": [
    "fighter_stats_copy.columns"
   ]
  },
  {
   "cell_type": "code",
   "execution_count": 44,
   "id": "fae9c62c",
   "metadata": {},
   "outputs": [],
   "source": [
    "event_merge = pd.merge(fight_stats_copy, fight_results_copy, on = ['EVENT', 'BOUT'], how = 'left')"
   ]
  },
  {
   "cell_type": "code",
   "execution_count": 45,
   "id": "dc1c65a7",
   "metadata": {},
   "outputs": [],
   "source": [
    "event_merge2 = pd.merge(event_merge, fight_event_details_copy, on = ['EVENT'], how = 'left')"
   ]
  },
  {
   "cell_type": "code",
   "execution_count": 46,
   "id": "cd148ca8",
   "metadata": {},
   "outputs": [],
   "source": [
    "testdf = pd.merge(event_merge2, result, on = ['Fight Result URL','EVENT'], how='left')\n",
    "testdf.loc[testdf['FIGHTER'] == testdf['FIGHTER_x'], 'Fighter Stats URL'] = testdf['Fighter Stats URL1']\n",
    "testdf.loc[testdf['FIGHTER'] == testdf['FIGHTER_y'], 'Fighter Stats URL'] = testdf['Fighter Stats URL2']\n",
    "xycolumns = ['FIGHTER_x', 'HEIGHT_x',\n",
    "       'WEIGHT_x', 'REACH_x', 'STANCE_x', 'DOB_x', 'FIGHTER_y', 'HEIGHT_y',\n",
    "       'WEIGHT_y', 'REACH_y', 'STANCE_y', 'DOB_y']\n",
    "testdf = testdf.drop(xycolumns, axis =1)"
   ]
  },
  {
   "cell_type": "code",
   "execution_count": 47,
   "id": "c36dd943",
   "metadata": {},
   "outputs": [],
   "source": [
    "testdf = pd.merge(testdf, fighter_stats_copy, on = ['Fighter Stats URL', 'FIGHTER'], how = 'left')"
   ]
  },
  {
   "cell_type": "code",
   "execution_count": 48,
   "id": "5266e2b7",
   "metadata": {},
   "outputs": [
    {
     "data": {
      "text/plain": [
       "EVENT                                      BOUT                                 \n",
       "UFC 263: Adesanya vs. Vettori 2            Israel Adesanya vs. Marvin Vettori       10\n",
       "UFC 225: Whittaker vs. Romero 2            Robert Whittaker vs. Yoel Romero         10\n",
       "UFC 223: Khabib vs. Iaquinta               Khabib Nurmagomedov vs. Al Iaquinta      10\n",
       "                                           Rose Namajunas vs. Joanna Jedrzejczyk    10\n",
       "UFC 118: Edgar vs Penn 2                   Frankie Edgar vs. BJ Penn                10\n",
       "                                                                                    ..\n",
       "UFC Fight Night 56: Shogun vs Saint Preux  Caio Magalhaes vs. Trevor Smith           2\n",
       "                                           Leandro Silva vs. Charlie Brenneman       2\n",
       "                                           Mauricio Rua vs. Ovince Saint Preux       2\n",
       "UFC Fight Night 6                          Anthony Torres vs. Pat Healy              2\n",
       "UFC: Silva vs Irvin                        Tim Credeur vs. Cale Yarbrough            2\n",
       "Length: 6983, dtype: int64"
      ]
     },
     "execution_count": 48,
     "metadata": {},
     "output_type": "execute_result"
    }
   ],
   "source": [
    "testdf[['EVENT', 'BOUT']].value_counts()"
   ]
  },
  {
   "cell_type": "markdown",
   "id": "4e759637",
   "metadata": {},
   "source": [
    "# Add OPPONENT stats"
   ]
  },
  {
   "cell_type": "code",
   "execution_count": 49,
   "id": "da740cb4",
   "metadata": {},
   "outputs": [],
   "source": [
    "testdf['OPPONENT'] = testdf.apply(lambda x: opponent(x), axis = 1)"
   ]
  },
  {
   "cell_type": "code",
   "execution_count": 50,
   "id": "b1d74bdb",
   "metadata": {},
   "outputs": [],
   "source": [
    "testdf = testdf.join(testdf.groupby(['EVENT','BOUT','FIGHTER', 'ROUND']).first(), on=['EVENT','BOUT', 'OPPONENT', 'ROUND'], rsuffix='opp')"
   ]
  },
  {
   "cell_type": "code",
   "execution_count": 51,
   "id": "79606f08",
   "metadata": {},
   "outputs": [],
   "source": [
    "columns = [ 'OUTCOMEopp',\n",
    "       'WEIGHTCLASSopp', 'METHODopp', 'WIN ROUNDopp', 'TIMEopp',\n",
    "       'TIME FORMATopp', 'REFEREEopp', 'DETAILSopp', 'Fight Result URLopp',\n",
    "       'OPPONENTopp','Fighter Stats URL1', 'Fighter Stats URL2','Fight Event URLopp', 'DATEopp', 'LOCATIONopp',\n",
    "       'Fighter Stats URL1opp', 'Fighter Stats URL2opp']"
   ]
  },
  {
   "cell_type": "code",
   "execution_count": 52,
   "id": "1b4774bc",
   "metadata": {},
   "outputs": [],
   "source": [
    "testdf = testdf.replace(['--', '---'], np.nan)"
   ]
  },
  {
   "cell_type": "code",
   "execution_count": 53,
   "id": "7c7c844b",
   "metadata": {},
   "outputs": [],
   "source": [
    "testdf = testdf.drop(columns, axis = 1)"
   ]
  },
  {
   "cell_type": "code",
   "execution_count": 54,
   "id": "0cda1ee2",
   "metadata": {},
   "outputs": [],
   "source": [
    "#Clean Weight Reach and Height"
   ]
  },
  {
   "cell_type": "code",
   "execution_count": 55,
   "id": "1a7f5ced",
   "metadata": {},
   "outputs": [],
   "source": [
    "testdf[['WEIGHT', 'REACH', 'HEIGHT', 'WEIGHTopp', 'REACHopp', 'HEIGHTopp']] = testdf[['WEIGHT', 'REACH', 'HEIGHT', 'WEIGHTopp', 'REACHopp', 'HEIGHTopp']].replace('0', np.nan)"
   ]
  },
  {
   "cell_type": "code",
   "execution_count": 56,
   "id": "08ca0f0a",
   "metadata": {},
   "outputs": [],
   "source": [
    "#Clean Percentages"
   ]
  },
  {
   "cell_type": "code",
   "execution_count": 57,
   "id": "51e7a1f9",
   "metadata": {},
   "outputs": [],
   "source": [
    "testdf = testdf.replace('%', '', regex = True)"
   ]
  },
  {
   "cell_type": "code",
   "execution_count": 58,
   "id": "bbf308ac",
   "metadata": {},
   "outputs": [],
   "source": [
    "testdf[['WEIGHT', 'REACH', 'HEIGHT', 'WEIGHTopp', 'REACHopp', 'HEIGHTopp']] = testdf[['WEIGHT', 'REACH', 'HEIGHT', 'WEIGHTopp', 'REACHopp', 'HEIGHTopp']].apply(lambda x: x.astype('float64'))"
   ]
  },
  {
   "cell_type": "code",
   "execution_count": 59,
   "id": "99f1156a",
   "metadata": {},
   "outputs": [],
   "source": [
    "testdf.to_csv('data_cleaned2.csv', index = False)"
   ]
  }
 ],
 "metadata": {
  "kernelspec": {
   "display_name": "Python 3 (ipykernel)",
   "language": "python",
   "name": "python3"
  },
  "language_info": {
   "codemirror_mode": {
    "name": "ipython",
    "version": 3
   },
   "file_extension": ".py",
   "mimetype": "text/x-python",
   "name": "python",
   "nbconvert_exporter": "python",
   "pygments_lexer": "ipython3",
   "version": "3.9.13"
  },
  "vscode": {
   "interpreter": {
    "hash": "aee8b7b246df8f9039afb4144a1f6fd8d2ca17a180786b69acc140d282b71a49"
   }
  }
 },
 "nbformat": 4,
 "nbformat_minor": 5
}
