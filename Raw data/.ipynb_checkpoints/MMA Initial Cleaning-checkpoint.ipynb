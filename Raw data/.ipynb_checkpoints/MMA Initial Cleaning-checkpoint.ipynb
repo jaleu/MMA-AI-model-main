{
 "cells": [
  {
   "cell_type": "markdown",
   "id": "93ce80b5",
   "metadata": {},
   "source": [
    "# Import libraries"
   ]
  },
  {
   "cell_type": "code",
   "execution_count": 1,
   "id": "40850509",
   "metadata": {},
   "outputs": [],
   "source": [
    "import pandas as pd\n",
    "import re\n",
    "import numpy as np\n",
    "import seaborn as sns\n",
    "import matplotlib.pyplot as plt\n",
    "\n",
    "pd.set_option(\"display.max_columns\", None)"
   ]
  },
  {
   "cell_type": "markdown",
   "id": "36fc8589",
   "metadata": {},
   "source": [
    "# Import datasets"
   ]
  },
  {
   "cell_type": "code",
   "execution_count": 2,
   "id": "0579d4f9",
   "metadata": {},
   "outputs": [],
   "source": [
    "fight_stats = pd.read_csv('ufc_fight_stats.csv')\n",
    "fight_results = pd.read_csv('ufc_fight_results.csv')\n",
    "fighter_stats = pd.read_csv('ufc_fighter_tott.csv')\n",
    "fighter_links = pd.read_csv('ufc.csv')\n",
    "fight_event_details = pd.read_csv('ufc_event_details.csv')"
   ]
  },
  {
   "cell_type": "code",
   "execution_count": 3,
   "id": "d3b7793a",
   "metadata": {},
   "outputs": [
    {
     "data": {
      "text/plain": [
       "((32330, 19), (6939, 11), (3926, 7))"
      ]
     },
     "execution_count": 3,
     "metadata": {},
     "output_type": "execute_result"
    }
   ],
   "source": [
    "fight_stats.shape, fight_results.shape, fighter_stats.shape"
   ]
  },
  {
   "cell_type": "markdown",
   "id": "2dfe827c",
   "metadata": {},
   "source": [
    "# Functions"
   ]
  },
  {
   "cell_type": "code",
   "execution_count": 4,
   "id": "6640bed0",
   "metadata": {},
   "outputs": [],
   "source": [
    "def create_data_dictionary(data_full):\n",
    "    '''\n",
    "    Function for getting the dataframe for data dictionary\n",
    "\n",
    "    INPUT: dataframe\n",
    "    OUTPUT: dataframe (with info for data dictionary)\n",
    "    '''\n",
    "    column_list = data_full.columns.tolist()\n",
    "    # unique value count\n",
    "    uni_val_count = []\n",
    "    for i in column_list:\n",
    "        uni_val_count.append(len(data_full[i].unique()))\n",
    "    # unique value \n",
    "    uni_val = []\n",
    "    for i in column_list:\n",
    "        uni_val.append(data_full[i].unique()[0:6])\n",
    "    # NULL count\n",
    "    null_count = []\n",
    "    for i in column_list:\n",
    "        print(data_full[data_full[i].isnull()==True])\n",
    "        null_count.append((data_full[data_full[i].isnull()==True]).shape[0])\n",
    "    if len(column_list) == len(uni_val_count) == len(uni_val) == len(null_count):\n",
    "        result_data = pd.DataFrame({'column': column_list,\n",
    "                                    'Unique value count': uni_val_count,\n",
    "                                    'Unique valuer': uni_val,\n",
    "                                    'NULL count': null_count})\n",
    "    else:\n",
    "        result_data = 'ERROR!!'\n",
    "\n",
    "    return result_data"
   ]
  },
  {
   "cell_type": "code",
   "execution_count": 5,
   "id": "e3e61c24",
   "metadata": {},
   "outputs": [],
   "source": [
    "def minute_to_second(time):\n",
    "    '''\n",
    "    INPUT: str? (12:32)\n",
    "    OUTPUT: int (752)\n",
    "    \n",
    "    '''\n",
    "    if ':' in str(time):\n",
    "        time = str(time)\n",
    "        time_splitted = time.split(':')\n",
    "        result = int(time_splitted[0])*60 + int(time_splitted[1])\n",
    "    else:\n",
    "        result = np.nan\n",
    "\n",
    "    return result"
   ]
  },
  {
   "cell_type": "code",
   "execution_count": 6,
   "id": "7f6b70f6",
   "metadata": {},
   "outputs": [],
   "source": [
    "def height_to_inches(ht):\n",
    "    # format: 7' 0.0\"\n",
    "    ht_ = ht.split(\"' \")\n",
    "    if (len(ht_)== 2):\n",
    "        ft_ = float(ht_[0])\n",
    "        in_ = float(ht_[1].replace(\"\\\"\",\"\"))\n",
    "        return (12*ft_) + in_"
   ]
  },
  {
   "cell_type": "code",
   "execution_count": 7,
   "id": "6fe26ccd",
   "metadata": {},
   "outputs": [],
   "source": [
    "def opponent(x):\n",
    "    bout_splitted = str(x['BOUT']).split(' vs. ')\n",
    "    if bout_splitted[0] == x['FIGHTER']:\n",
    "        return bout_splitted[1]\n",
    "    else:\n",
    "        return bout_splitted[0]"
   ]
  },
  {
   "cell_type": "markdown",
   "id": "12204bc2",
   "metadata": {},
   "source": [
    "# fight_stats"
   ]
  },
  {
   "cell_type": "code",
   "execution_count": 8,
   "id": "71690a20",
   "metadata": {},
   "outputs": [],
   "source": [
    "fight_stats_copy = fight_stats.copy()\n",
    "fight_stats_copy['EVENT'] = fight_stats_copy['EVENT'].map(lambda cell: re.sub(\"\\s+\", \" \", cell.strip()))\n",
    "fight_stats_copy['BOUT'] = fight_stats_copy['BOUT'].map(lambda cell: re.sub(\"\\s+\", \" \", cell.strip()))"
   ]
  },
  {
   "cell_type": "code",
   "execution_count": 9,
   "id": "6af90e02",
   "metadata": {},
   "outputs": [],
   "source": [
    "# fixing the digits\n",
    "columnslist = ['SIG.STR.','TOTAL STR.', 'TD', 'HEAD', 'BODY','LEG', 'DISTANCE', 'CLINCH', 'GROUND']\n",
    "for strike in columnslist:\n",
    "    fight_stats_copy[['ATTEMPTED ' + strike, 'LANDED ' + strike]] = fight_stats[strike].str.extract(\"(\\d+).+(\\d+)\")"
   ]
  },
  {
   "cell_type": "code",
   "execution_count": 10,
   "id": "12821127",
   "metadata": {},
   "outputs": [],
   "source": [
    "# dropping some columns\n",
    "fight_stats_copy = fight_stats_copy.drop(columns = columnslist)"
   ]
  },
  {
   "cell_type": "code",
   "execution_count": 11,
   "id": "98406671",
   "metadata": {},
   "outputs": [],
   "source": [
    "#changing time to seconds\n",
    "fight_stats_copy['CTRL'] =  fight_stats_copy['CTRL'].apply(lambda x: minute_to_second(x))"
   ]
  },
  {
   "cell_type": "markdown",
   "id": "d35015cf",
   "metadata": {},
   "source": [
    "# fight_result"
   ]
  },
  {
   "cell_type": "code",
   "execution_count": 12,
   "id": "3e6fba9e",
   "metadata": {},
   "outputs": [],
   "source": [
    "fight_results_copy = fight_results.copy()"
   ]
  },
  {
   "cell_type": "code",
   "execution_count": 13,
   "id": "fe569032",
   "metadata": {},
   "outputs": [
    {
     "data": {
      "text/plain": [
       "Index(['EVENT', 'BOUT', 'OUTCOME', 'WEIGHTCLASS', 'METHOD', 'ROUND', 'TIME',\n",
       "       'TIME FORMAT', 'REFEREE', 'DETAILS', 'URL'],\n",
       "      dtype='object')"
      ]
     },
     "execution_count": 13,
     "metadata": {},
     "output_type": "execute_result"
    }
   ],
   "source": [
    "fight_results_copy.columns"
   ]
  },
  {
   "cell_type": "code",
   "execution_count": 14,
   "id": "9a896446",
   "metadata": {},
   "outputs": [
    {
     "data": {
      "text/plain": [
       "0       UFC 283: Teixeira vs. Hill \n",
       "1       UFC 283: Teixeira vs. Hill \n",
       "2       UFC 283: Teixeira vs. Hill \n",
       "3       UFC 283: Teixeira vs. Hill \n",
       "4       UFC 283: Teixeira vs. Hill \n",
       "                   ...             \n",
       "6934             UFC 2: No Way Out \n",
       "6935             UFC 2: No Way Out \n",
       "6936             UFC 2: No Way Out \n",
       "6937             UFC 2: No Way Out \n",
       "6938             UFC 2: No Way Out \n",
       "Name: EVENT, Length: 6939, dtype: object"
      ]
     },
     "execution_count": 14,
     "metadata": {},
     "output_type": "execute_result"
    }
   ],
   "source": [
    "fight_results_copy['EVENT']"
   ]
  },
  {
   "cell_type": "code",
   "execution_count": 15,
   "id": "0303653e",
   "metadata": {},
   "outputs": [],
   "source": [
    "fight_results_copy['EVENT'] = fight_results_copy['EVENT'].map(lambda cell: re.sub(\"\\s+\", \" \", cell.strip()))\n",
    "fight_results_copy['BOUT'] = fight_results_copy['BOUT'].map(lambda cell: re.sub(\"\\s+\", \" \", cell.strip()))\n",
    "fight_results_copy['URL'] = fight_results_copy['URL'].map(lambda cell: re.sub(\"\\s+\", \" \", cell.strip()))"
   ]
  },
  {
   "cell_type": "code",
   "execution_count": 16,
   "id": "cc8b0d94",
   "metadata": {},
   "outputs": [],
   "source": [
    "# renaming \n",
    "fight_results_copy = fight_results_copy.rename(columns={'ROUND': 'WIN ROUND', 'URL': 'Fight Result URL'})"
   ]
  },
  {
   "cell_type": "code",
   "execution_count": 17,
   "id": "ad00f247",
   "metadata": {},
   "outputs": [],
   "source": [
    "# minute to second\n",
    "fight_results_copy['TIME'] = fight_results_copy.apply(lambda x: minute_to_second(x['TIME']), axis = 1)"
   ]
  },
  {
   "cell_type": "markdown",
   "id": "3ab731c5",
   "metadata": {},
   "source": [
    "# fighter_stats"
   ]
  },
  {
   "cell_type": "code",
   "execution_count": 18,
   "id": "1abfbe90",
   "metadata": {},
   "outputs": [],
   "source": [
    "fighter_stats_copy = fighter_stats.copy()"
   ]
  },
  {
   "cell_type": "code",
   "execution_count": 19,
   "id": "8c497d2b",
   "metadata": {},
   "outputs": [],
   "source": [
    "# renaming\n",
    "fighter_stats_copy = fighter_stats_copy.rename(columns={'URL': 'Fighter Stats URL'})"
   ]
  },
  {
   "cell_type": "code",
   "execution_count": 20,
   "id": "1c145640",
   "metadata": {},
   "outputs": [],
   "source": [
    "# changing some values\n",
    "fighter_stats_copy['WEIGHT'] = fighter_stats_copy['WEIGHT'].replace('--', '0')\n",
    "fighter_stats_copy['WEIGHT'] = fighter_stats_copy['WEIGHT'].apply(lambda x: str(x).replace(' lbs.', ''))\n",
    "\n",
    "fighter_stats_copy['REACH'] = fighter_stats_copy['REACH'].replace('--', '0')\n",
    "fighter_stats_copy['REACH'] = fighter_stats_copy['REACH'].apply(lambda x: str(x).replace('\"', ''))\n",
    "\n",
    "fighter_stats_copy['HEIGHT'] = fighter_stats_copy['HEIGHT'].replace('--', '0')\n",
    "fighter_stats_copy['HEIGHT'] = fighter_stats_copy[\"HEIGHT\"].apply(lambda x:height_to_inches(x))"
   ]
  },
  {
   "cell_type": "markdown",
   "id": "86075182",
   "metadata": {},
   "source": [
    "# fight_links"
   ]
  },
  {
   "cell_type": "code",
   "execution_count": 21,
   "id": "be6229db",
   "metadata": {},
   "outputs": [],
   "source": [
    "# clean excess string parts"
   ]
  },
  {
   "cell_type": "code",
   "execution_count": 22,
   "id": "bde8487d",
   "metadata": {},
   "outputs": [],
   "source": [
    "fighter_links_copy = fighter_links.copy()"
   ]
  },
  {
   "cell_type": "code",
   "execution_count": 23,
   "id": "4f14666a",
   "metadata": {},
   "outputs": [],
   "source": [
    "# clean white space in merge columns"
   ]
  },
  {
   "cell_type": "code",
   "execution_count": 24,
   "id": "ac8936a5",
   "metadata": {},
   "outputs": [],
   "source": [
    "fighter_links_copy['fight'] = fighter_links_copy['fight'].apply(lambda x: x[5:-1])"
   ]
  },
  {
   "cell_type": "code",
   "execution_count": 25,
   "id": "39cf3608",
   "metadata": {},
   "outputs": [],
   "source": [
    "fighter_links_copy['event'] = fighter_links_copy['event'].apply(lambda x: x[4:-5])"
   ]
  },
  {
   "cell_type": "code",
   "execution_count": 26,
   "id": "53c1bf8e",
   "metadata": {},
   "outputs": [],
   "source": [
    "fighter_links_copy['fight'] = fighter_links_copy['fight'].map(lambda cell: re.sub(\"\\s+\", \" \", cell.strip()))\n",
    "fighter_links_copy['event'] = fighter_links_copy['event'].map(lambda cell: re.sub(\"\\s+\", \" \", cell.strip()))"
   ]
  },
  {
   "cell_type": "code",
   "execution_count": 27,
   "id": "22d0c942",
   "metadata": {},
   "outputs": [],
   "source": [
    "# rename columns to merge "
   ]
  },
  {
   "cell_type": "code",
   "execution_count": 28,
   "id": "a08b0dab",
   "metadata": {},
   "outputs": [],
   "source": [
    "fighter_links_copy = fighter_links_copy.rename(columns={'event': 'EVENT'})"
   ]
  },
  {
   "cell_type": "code",
   "execution_count": 29,
   "id": "a9d9e6b8",
   "metadata": {},
   "outputs": [],
   "source": [
    "fighter_links_copy = fighter_links_copy.rename(columns={'fight': 'Fight Result URL'})"
   ]
  },
  {
   "cell_type": "code",
   "execution_count": 30,
   "id": "29e10d99",
   "metadata": {},
   "outputs": [],
   "source": [
    "fighter_links_copy = fighter_links_copy.rename(columns={'fighter1': 'Fighter Stats URL1'})"
   ]
  },
  {
   "cell_type": "code",
   "execution_count": 31,
   "id": "a91651af",
   "metadata": {},
   "outputs": [],
   "source": [
    "fighter_links_copy = fighter_links_copy.rename(columns={'fighter2': 'Fighter Stats URL2'})"
   ]
  },
  {
   "cell_type": "markdown",
   "id": "a6209519",
   "metadata": {},
   "source": [
    "# fight_event_details"
   ]
  },
  {
   "cell_type": "code",
   "execution_count": 32,
   "id": "0df03d84",
   "metadata": {},
   "outputs": [],
   "source": [
    "fight_event_details_copy = fight_event_details.copy()"
   ]
  },
  {
   "cell_type": "code",
   "execution_count": 33,
   "id": "2338c149",
   "metadata": {},
   "outputs": [],
   "source": [
    "#clean potential whitespace"
   ]
  },
  {
   "cell_type": "code",
   "execution_count": 34,
   "id": "8ca507ab",
   "metadata": {},
   "outputs": [],
   "source": [
    "fight_event_details_copy['EVENT'] = fight_event_details_copy['EVENT'].map(lambda cell: re.sub(\"\\s+\", \" \", cell.strip()))\n",
    "fight_event_details_copy['URL'] = fight_event_details_copy['URL'].map(lambda cell: re.sub(\"\\s+\", \" \", cell.strip()))"
   ]
  },
  {
   "cell_type": "code",
   "execution_count": 35,
   "id": "f2c08173",
   "metadata": {},
   "outputs": [],
   "source": [
    "fight_event_details_copy = fight_event_details_copy.rename(columns={'URL': 'Fight Event URL'})"
   ]
  },
  {
   "cell_type": "markdown",
   "id": "629a8d3f",
   "metadata": {},
   "source": [
    "# fight_stats + fighter_stats + fighter_details + fight_event_details + fight_details + fight_links"
   ]
  },
  {
   "cell_type": "code",
   "execution_count": 36,
   "id": "ab10dcd6",
   "metadata": {},
   "outputs": [],
   "source": [
    "df2 = fighter_stats_copy"
   ]
  },
  {
   "cell_type": "code",
   "execution_count": 37,
   "id": "a3ef6779",
   "metadata": {},
   "outputs": [],
   "source": [
    "df2 = df2.rename(columns={'Fighter Stats URL': 'Fighter Stats URL1'})"
   ]
  },
  {
   "cell_type": "code",
   "execution_count": 38,
   "id": "42415160",
   "metadata": {},
   "outputs": [],
   "source": [
    "df1 = fighter_links_copy"
   ]
  },
  {
   "cell_type": "code",
   "execution_count": 39,
   "id": "aad2f24f",
   "metadata": {},
   "outputs": [],
   "source": [
    "result = pd.merge(df1, df2)"
   ]
  },
  {
   "cell_type": "code",
   "execution_count": 40,
   "id": "121458c7",
   "metadata": {},
   "outputs": [],
   "source": [
    "df2 = df2.rename(columns = {'Fighter Stats URL1': 'Fighter Stats URL2'})"
   ]
  },
  {
   "cell_type": "code",
   "execution_count": 41,
   "id": "0636334a",
   "metadata": {},
   "outputs": [],
   "source": [
    "result = pd.merge(result, df2, on = 'Fighter Stats URL2')"
   ]
  },
  {
   "cell_type": "code",
   "execution_count": 42,
   "id": "a111cbef",
   "metadata": {},
   "outputs": [
    {
     "data": {
      "text/plain": [
       "Index(['FIGHTER', 'HEIGHT', 'WEIGHT', 'REACH', 'STANCE', 'DOB',\n",
       "       'Fighter Stats URL'],\n",
       "      dtype='object')"
      ]
     },
     "execution_count": 42,
     "metadata": {},
     "output_type": "execute_result"
    }
   ],
   "source": [
    "fighter_stats_copy.columns"
   ]
  },
  {
   "cell_type": "code",
   "execution_count": 43,
   "id": "fae9c62c",
   "metadata": {},
   "outputs": [],
   "source": [
    "event_merge = pd.merge(fight_stats_copy, fight_results_copy, on = ['EVENT', 'BOUT'], how = 'left')"
   ]
  },
  {
   "cell_type": "code",
   "execution_count": 44,
   "id": "dc1c65a7",
   "metadata": {},
   "outputs": [],
   "source": [
    "event_merge2 = pd.merge(event_merge, fight_event_details_copy, on = ['EVENT'], how = 'left')"
   ]
  },
  {
   "cell_type": "code",
   "execution_count": 45,
   "id": "cd148ca8",
   "metadata": {},
   "outputs": [],
   "source": [
    "testdf = pd.merge(event_merge2, result, on = ['Fight Result URL','EVENT'], how='left')\n",
    "testdf.loc[testdf['FIGHTER'] == testdf['FIGHTER_x'], 'Fighter Stats URL'] = testdf['Fighter Stats URL1']\n",
    "testdf.loc[testdf['FIGHTER'] == testdf['FIGHTER_y'], 'Fighter Stats URL'] = testdf['Fighter Stats URL2']\n",
    "xycolumns = ['FIGHTER_x', 'HEIGHT_x',\n",
    "       'WEIGHT_x', 'REACH_x', 'STANCE_x', 'DOB_x', 'FIGHTER_y', 'HEIGHT_y',\n",
    "       'WEIGHT_y', 'REACH_y', 'STANCE_y', 'DOB_y']\n",
    "testdf = testdf.drop(xycolumns, axis =1)"
   ]
  },
  {
   "cell_type": "code",
   "execution_count": 46,
   "id": "c36dd943",
   "metadata": {},
   "outputs": [],
   "source": [
    "testdf = pd.merge(testdf, fighter_stats_copy, on = ['Fighter Stats URL', 'FIGHTER'], how = 'left')"
   ]
  },
  {
   "cell_type": "code",
   "execution_count": 47,
   "id": "5266e2b7",
   "metadata": {},
   "outputs": [
    {
     "data": {
      "text/plain": [
       "EVENT                                      BOUT                                 \n",
       "UFC Fight Night: Smith vs. Teixeira        Anthony Smith vs. Glover Teixeira        10\n",
       "UFC 65: Bad Intentions                     Tim Sylvia vs. Jeff Monson               10\n",
       "UFC 223: Khabib vs. Iaquinta               Khabib Nurmagomedov vs. Al Iaquinta      10\n",
       "UFC Fight Night: Holm vs. Vieira           Holly Holm vs. Ketlen Vieira             10\n",
       "UFC 223: Khabib vs. Iaquinta               Rose Namajunas vs. Joanna Jedrzejczyk    10\n",
       "                                                                                    ..\n",
       "UFC Fight Night 5                          Jason Lambert vs. Branden Lee Hinkle      2\n",
       "                                           Jorge Santiago vs. Justin Levens          2\n",
       "                                           Rob MacDonald vs. Kristian Rothaermel     2\n",
       "UFC Fight Night 56: Shogun vs Saint Preux  Caio Magalhaes vs. Trevor Smith           2\n",
       "UFC: Silva vs Irvin                        Tim Credeur vs. Cale Yarbrough            2\n",
       "Length: 6938, dtype: int64"
      ]
     },
     "execution_count": 47,
     "metadata": {},
     "output_type": "execute_result"
    }
   ],
   "source": [
    "testdf[['EVENT', 'BOUT']].value_counts()"
   ]
  },
  {
   "cell_type": "markdown",
   "id": "4e759637",
   "metadata": {},
   "source": [
    "# Add OPPONENT stats"
   ]
  },
  {
   "cell_type": "code",
   "execution_count": 48,
   "id": "da740cb4",
   "metadata": {},
   "outputs": [],
   "source": [
    "testdf['OPPONENT'] = testdf.apply(lambda x: opponent(x), axis = 1)"
   ]
  },
  {
   "cell_type": "code",
   "execution_count": 49,
   "id": "b1d74bdb",
   "metadata": {},
   "outputs": [],
   "source": [
    "testdf = testdf.join(testdf.groupby(['EVENT','BOUT','FIGHTER', 'ROUND']).first(), on=['EVENT','BOUT', 'OPPONENT', 'ROUND'], rsuffix='opp')"
   ]
  },
  {
   "cell_type": "code",
   "execution_count": 50,
   "id": "79606f08",
   "metadata": {},
   "outputs": [],
   "source": [
    "columns = [ 'OUTCOMEopp',\n",
    "       'WEIGHTCLASSopp', 'METHODopp', 'WIN ROUNDopp', 'TIMEopp',\n",
    "       'TIME FORMATopp', 'REFEREEopp', 'DETAILSopp', 'Fight Result URLopp',\n",
    "       'OPPONENTopp','Fighter Stats URL1', 'Fighter Stats URL2','Fight Event URLopp', 'DATEopp', 'LOCATIONopp',\n",
    "       'Fighter Stats URL1opp', 'Fighter Stats URL2opp']"
   ]
  },
  {
   "cell_type": "code",
   "execution_count": 52,
   "id": "1b4774bc",
   "metadata": {},
   "outputs": [],
   "source": [
    "testdf = testdf.replace(['--', '---'], np.nan)"
   ]
  },
  {
   "cell_type": "code",
   "execution_count": 63,
   "id": "7c7c844b",
   "metadata": {},
   "outputs": [
    {
     "ename": "KeyError",
     "evalue": "\"['ROUNDopp'] not found in axis\"",
     "output_type": "error",
     "traceback": [
      "\u001b[1;31m---------------------------------------------------------------------------\u001b[0m",
      "\u001b[1;31mKeyError\u001b[0m                                  Traceback (most recent call last)",
      "\u001b[1;32m~\\AppData\\Local\\Temp/ipykernel_34560/3491590895.py\u001b[0m in \u001b[0;36m<module>\u001b[1;34m\u001b[0m\n\u001b[1;32m----> 1\u001b[1;33m \u001b[0mtestdf\u001b[0m\u001b[1;33m.\u001b[0m\u001b[0mdrop\u001b[0m\u001b[1;33m(\u001b[0m\u001b[0mcolumns\u001b[0m\u001b[1;33m,\u001b[0m \u001b[0maxis\u001b[0m \u001b[1;33m=\u001b[0m \u001b[1;36m1\u001b[0m\u001b[1;33m)\u001b[0m\u001b[1;33m\u001b[0m\u001b[1;33m\u001b[0m\u001b[0m\n\u001b[0m",
      "\u001b[1;32m~\\anaconda3\\lib\\site-packages\\pandas\\util\\_decorators.py\u001b[0m in \u001b[0;36mwrapper\u001b[1;34m(*args, **kwargs)\u001b[0m\n\u001b[0;32m    309\u001b[0m                     \u001b[0mstacklevel\u001b[0m\u001b[1;33m=\u001b[0m\u001b[0mstacklevel\u001b[0m\u001b[1;33m,\u001b[0m\u001b[1;33m\u001b[0m\u001b[1;33m\u001b[0m\u001b[0m\n\u001b[0;32m    310\u001b[0m                 )\n\u001b[1;32m--> 311\u001b[1;33m             \u001b[1;32mreturn\u001b[0m \u001b[0mfunc\u001b[0m\u001b[1;33m(\u001b[0m\u001b[1;33m*\u001b[0m\u001b[0margs\u001b[0m\u001b[1;33m,\u001b[0m \u001b[1;33m**\u001b[0m\u001b[0mkwargs\u001b[0m\u001b[1;33m)\u001b[0m\u001b[1;33m\u001b[0m\u001b[1;33m\u001b[0m\u001b[0m\n\u001b[0m\u001b[0;32m    312\u001b[0m \u001b[1;33m\u001b[0m\u001b[0m\n\u001b[0;32m    313\u001b[0m         \u001b[1;32mreturn\u001b[0m \u001b[0mwrapper\u001b[0m\u001b[1;33m\u001b[0m\u001b[1;33m\u001b[0m\u001b[0m\n",
      "\u001b[1;32m~\\anaconda3\\lib\\site-packages\\pandas\\core\\frame.py\u001b[0m in \u001b[0;36mdrop\u001b[1;34m(self, labels, axis, index, columns, level, inplace, errors)\u001b[0m\n\u001b[0;32m   4904\u001b[0m                 \u001b[0mweight\u001b[0m  \u001b[1;36m1.0\u001b[0m     \u001b[1;36m0.8\u001b[0m\u001b[1;33m\u001b[0m\u001b[1;33m\u001b[0m\u001b[0m\n\u001b[0;32m   4905\u001b[0m         \"\"\"\n\u001b[1;32m-> 4906\u001b[1;33m         return super().drop(\n\u001b[0m\u001b[0;32m   4907\u001b[0m             \u001b[0mlabels\u001b[0m\u001b[1;33m=\u001b[0m\u001b[0mlabels\u001b[0m\u001b[1;33m,\u001b[0m\u001b[1;33m\u001b[0m\u001b[1;33m\u001b[0m\u001b[0m\n\u001b[0;32m   4908\u001b[0m             \u001b[0maxis\u001b[0m\u001b[1;33m=\u001b[0m\u001b[0maxis\u001b[0m\u001b[1;33m,\u001b[0m\u001b[1;33m\u001b[0m\u001b[1;33m\u001b[0m\u001b[0m\n",
      "\u001b[1;32m~\\anaconda3\\lib\\site-packages\\pandas\\core\\generic.py\u001b[0m in \u001b[0;36mdrop\u001b[1;34m(self, labels, axis, index, columns, level, inplace, errors)\u001b[0m\n\u001b[0;32m   4148\u001b[0m         \u001b[1;32mfor\u001b[0m \u001b[0maxis\u001b[0m\u001b[1;33m,\u001b[0m \u001b[0mlabels\u001b[0m \u001b[1;32min\u001b[0m \u001b[0maxes\u001b[0m\u001b[1;33m.\u001b[0m\u001b[0mitems\u001b[0m\u001b[1;33m(\u001b[0m\u001b[1;33m)\u001b[0m\u001b[1;33m:\u001b[0m\u001b[1;33m\u001b[0m\u001b[1;33m\u001b[0m\u001b[0m\n\u001b[0;32m   4149\u001b[0m             \u001b[1;32mif\u001b[0m \u001b[0mlabels\u001b[0m \u001b[1;32mis\u001b[0m \u001b[1;32mnot\u001b[0m \u001b[1;32mNone\u001b[0m\u001b[1;33m:\u001b[0m\u001b[1;33m\u001b[0m\u001b[1;33m\u001b[0m\u001b[0m\n\u001b[1;32m-> 4150\u001b[1;33m                 \u001b[0mobj\u001b[0m \u001b[1;33m=\u001b[0m \u001b[0mobj\u001b[0m\u001b[1;33m.\u001b[0m\u001b[0m_drop_axis\u001b[0m\u001b[1;33m(\u001b[0m\u001b[0mlabels\u001b[0m\u001b[1;33m,\u001b[0m \u001b[0maxis\u001b[0m\u001b[1;33m,\u001b[0m \u001b[0mlevel\u001b[0m\u001b[1;33m=\u001b[0m\u001b[0mlevel\u001b[0m\u001b[1;33m,\u001b[0m \u001b[0merrors\u001b[0m\u001b[1;33m=\u001b[0m\u001b[0merrors\u001b[0m\u001b[1;33m)\u001b[0m\u001b[1;33m\u001b[0m\u001b[1;33m\u001b[0m\u001b[0m\n\u001b[0m\u001b[0;32m   4151\u001b[0m \u001b[1;33m\u001b[0m\u001b[0m\n\u001b[0;32m   4152\u001b[0m         \u001b[1;32mif\u001b[0m \u001b[0minplace\u001b[0m\u001b[1;33m:\u001b[0m\u001b[1;33m\u001b[0m\u001b[1;33m\u001b[0m\u001b[0m\n",
      "\u001b[1;32m~\\anaconda3\\lib\\site-packages\\pandas\\core\\generic.py\u001b[0m in \u001b[0;36m_drop_axis\u001b[1;34m(self, labels, axis, level, errors)\u001b[0m\n\u001b[0;32m   4183\u001b[0m                 \u001b[0mnew_axis\u001b[0m \u001b[1;33m=\u001b[0m \u001b[0maxis\u001b[0m\u001b[1;33m.\u001b[0m\u001b[0mdrop\u001b[0m\u001b[1;33m(\u001b[0m\u001b[0mlabels\u001b[0m\u001b[1;33m,\u001b[0m \u001b[0mlevel\u001b[0m\u001b[1;33m=\u001b[0m\u001b[0mlevel\u001b[0m\u001b[1;33m,\u001b[0m \u001b[0merrors\u001b[0m\u001b[1;33m=\u001b[0m\u001b[0merrors\u001b[0m\u001b[1;33m)\u001b[0m\u001b[1;33m\u001b[0m\u001b[1;33m\u001b[0m\u001b[0m\n\u001b[0;32m   4184\u001b[0m             \u001b[1;32melse\u001b[0m\u001b[1;33m:\u001b[0m\u001b[1;33m\u001b[0m\u001b[1;33m\u001b[0m\u001b[0m\n\u001b[1;32m-> 4185\u001b[1;33m                 \u001b[0mnew_axis\u001b[0m \u001b[1;33m=\u001b[0m \u001b[0maxis\u001b[0m\u001b[1;33m.\u001b[0m\u001b[0mdrop\u001b[0m\u001b[1;33m(\u001b[0m\u001b[0mlabels\u001b[0m\u001b[1;33m,\u001b[0m \u001b[0merrors\u001b[0m\u001b[1;33m=\u001b[0m\u001b[0merrors\u001b[0m\u001b[1;33m)\u001b[0m\u001b[1;33m\u001b[0m\u001b[1;33m\u001b[0m\u001b[0m\n\u001b[0m\u001b[0;32m   4186\u001b[0m             \u001b[0mresult\u001b[0m \u001b[1;33m=\u001b[0m \u001b[0mself\u001b[0m\u001b[1;33m.\u001b[0m\u001b[0mreindex\u001b[0m\u001b[1;33m(\u001b[0m\u001b[1;33m**\u001b[0m\u001b[1;33m{\u001b[0m\u001b[0maxis_name\u001b[0m\u001b[1;33m:\u001b[0m \u001b[0mnew_axis\u001b[0m\u001b[1;33m}\u001b[0m\u001b[1;33m)\u001b[0m\u001b[1;33m\u001b[0m\u001b[1;33m\u001b[0m\u001b[0m\n\u001b[0;32m   4187\u001b[0m \u001b[1;33m\u001b[0m\u001b[0m\n",
      "\u001b[1;32m~\\anaconda3\\lib\\site-packages\\pandas\\core\\indexes\\base.py\u001b[0m in \u001b[0;36mdrop\u001b[1;34m(self, labels, errors)\u001b[0m\n\u001b[0;32m   6015\u001b[0m         \u001b[1;32mif\u001b[0m \u001b[0mmask\u001b[0m\u001b[1;33m.\u001b[0m\u001b[0many\u001b[0m\u001b[1;33m(\u001b[0m\u001b[1;33m)\u001b[0m\u001b[1;33m:\u001b[0m\u001b[1;33m\u001b[0m\u001b[1;33m\u001b[0m\u001b[0m\n\u001b[0;32m   6016\u001b[0m             \u001b[1;32mif\u001b[0m \u001b[0merrors\u001b[0m \u001b[1;33m!=\u001b[0m \u001b[1;34m\"ignore\"\u001b[0m\u001b[1;33m:\u001b[0m\u001b[1;33m\u001b[0m\u001b[1;33m\u001b[0m\u001b[0m\n\u001b[1;32m-> 6017\u001b[1;33m                 \u001b[1;32mraise\u001b[0m \u001b[0mKeyError\u001b[0m\u001b[1;33m(\u001b[0m\u001b[1;34mf\"{labels[mask]} not found in axis\"\u001b[0m\u001b[1;33m)\u001b[0m\u001b[1;33m\u001b[0m\u001b[1;33m\u001b[0m\u001b[0m\n\u001b[0m\u001b[0;32m   6018\u001b[0m             \u001b[0mindexer\u001b[0m \u001b[1;33m=\u001b[0m \u001b[0mindexer\u001b[0m\u001b[1;33m[\u001b[0m\u001b[1;33m~\u001b[0m\u001b[0mmask\u001b[0m\u001b[1;33m]\u001b[0m\u001b[1;33m\u001b[0m\u001b[1;33m\u001b[0m\u001b[0m\n\u001b[0;32m   6019\u001b[0m         \u001b[1;32mreturn\u001b[0m \u001b[0mself\u001b[0m\u001b[1;33m.\u001b[0m\u001b[0mdelete\u001b[0m\u001b[1;33m(\u001b[0m\u001b[0mindexer\u001b[0m\u001b[1;33m)\u001b[0m\u001b[1;33m\u001b[0m\u001b[1;33m\u001b[0m\u001b[0m\n",
      "\u001b[1;31mKeyError\u001b[0m: \"['ROUNDopp'] not found in axis\""
     ]
    }
   ],
   "source": [
    "testdf.drop(columns, axis = 1)"
   ]
  },
  {
   "cell_type": "code",
   "execution_count": 54,
   "id": "0cda1ee2",
   "metadata": {},
   "outputs": [],
   "source": [
    "#Clean Weight Reach and Height"
   ]
  },
  {
   "cell_type": "code",
   "execution_count": 55,
   "id": "1a7f5ced",
   "metadata": {},
   "outputs": [],
   "source": [
    "testdf[['WEIGHT', 'REACH', 'HEIGHT', 'WEIGHTopp', 'REACHopp', 'HEIGHTopp']] = testdf[['WEIGHT', 'REACH', 'HEIGHT', 'WEIGHTopp', 'REACHopp', 'HEIGHTopp']].replace('0', np.nan)"
   ]
  },
  {
   "cell_type": "code",
   "execution_count": 56,
   "id": "b34b4c34",
   "metadata": {},
   "outputs": [
    {
     "data": {
      "text/plain": [
       "Index(['EVENT', 'BOUT', 'ROUND', 'FIGHTER', 'KD', 'SIG.STR. %', 'TD %',\n",
       "       'SUB.ATT', 'REV.', 'CTRL', 'ATTEMPTED SIG.STR.', 'LANDED SIG.STR.',\n",
       "       'ATTEMPTED TOTAL STR.', 'LANDED TOTAL STR.', 'ATTEMPTED TD',\n",
       "       'LANDED TD', 'ATTEMPTED HEAD', 'LANDED HEAD', 'ATTEMPTED BODY',\n",
       "       'LANDED BODY', 'ATTEMPTED LEG', 'LANDED LEG', 'ATTEMPTED DISTANCE',\n",
       "       'LANDED DISTANCE', 'ATTEMPTED CLINCH', 'LANDED CLINCH',\n",
       "       'ATTEMPTED GROUND', 'LANDED GROUND', 'OUTCOME', 'WEIGHTCLASS', 'METHOD',\n",
       "       'WIN ROUND', 'TIME', 'TIME FORMAT', 'REFEREE', 'DETAILS',\n",
       "       'Fight Result URL', 'Fight Event URL', 'DATE', 'LOCATION',\n",
       "       'Fighter Stats URL1', 'Fighter Stats URL2', 'Fighter Stats URL',\n",
       "       'HEIGHT', 'WEIGHT', 'REACH', 'STANCE', 'DOB', 'OPPONENT', 'KDopp',\n",
       "       'SIG.STR. %opp', 'TD %opp', 'SUB.ATTopp', 'REV.opp', 'CTRLopp',\n",
       "       'ATTEMPTED SIG.STR.opp', 'LANDED SIG.STR.opp',\n",
       "       'ATTEMPTED TOTAL STR.opp', 'LANDED TOTAL STR.opp', 'ATTEMPTED TDopp',\n",
       "       'LANDED TDopp', 'ATTEMPTED HEADopp', 'LANDED HEADopp',\n",
       "       'ATTEMPTED BODYopp', 'LANDED BODYopp', 'ATTEMPTED LEGopp',\n",
       "       'LANDED LEGopp', 'ATTEMPTED DISTANCEopp', 'LANDED DISTANCEopp',\n",
       "       'ATTEMPTED CLINCHopp', 'LANDED CLINCHopp', 'ATTEMPTED GROUNDopp',\n",
       "       'LANDED GROUNDopp', 'OUTCOMEopp', 'WEIGHTCLASSopp', 'METHODopp',\n",
       "       'WIN ROUNDopp', 'TIMEopp', 'TIME FORMATopp', 'REFEREEopp', 'DETAILSopp',\n",
       "       'Fight Result URLopp', 'Fight Event URLopp', 'DATEopp', 'LOCATIONopp',\n",
       "       'Fighter Stats URL1opp', 'Fighter Stats URL2opp',\n",
       "       'Fighter Stats URLopp', 'HEIGHTopp', 'WEIGHTopp', 'REACHopp',\n",
       "       'STANCEopp', 'DOBopp', 'OPPONENTopp'],\n",
       "      dtype='object')"
      ]
     },
     "execution_count": 56,
     "metadata": {},
     "output_type": "execute_result"
    }
   ],
   "source": [
    "testdf.columns"
   ]
  },
  {
   "cell_type": "code",
   "execution_count": 57,
   "id": "08ca0f0a",
   "metadata": {},
   "outputs": [],
   "source": [
    "#Clean Percentages"
   ]
  },
  {
   "cell_type": "code",
   "execution_count": 58,
   "id": "51e7a1f9",
   "metadata": {},
   "outputs": [],
   "source": [
    "testdf = testdf.replace('%', '', regex = True)"
   ]
  },
  {
   "cell_type": "code",
   "execution_count": 59,
   "id": "bbf308ac",
   "metadata": {},
   "outputs": [],
   "source": [
    "testdf[['WEIGHT', 'REACH', 'HEIGHT', 'WEIGHTopp', 'REACHopp', 'HEIGHTopp']] = testdf[['WEIGHT', 'REACH', 'HEIGHT', 'WEIGHTopp', 'REACHopp', 'HEIGHTopp']].apply(lambda x: x.astype('float64'))"
   ]
  },
  {
   "cell_type": "code",
   "execution_count": 60,
   "id": "99f1156a",
   "metadata": {},
   "outputs": [],
   "source": [
    "testdf.to_csv('data_cleaned.csv', index = False)"
   ]
  }
 ],
 "metadata": {
  "kernelspec": {
   "display_name": "Python 3 (ipykernel)",
   "language": "python",
   "name": "python3"
  },
  "language_info": {
   "codemirror_mode": {
    "name": "ipython",
    "version": 3
   },
   "file_extension": ".py",
   "mimetype": "text/x-python",
   "name": "python",
   "nbconvert_exporter": "python",
   "pygments_lexer": "ipython3",
   "version": "3.9.7"
  },
  "vscode": {
   "interpreter": {
    "hash": "aee8b7b246df8f9039afb4144a1f6fd8d2ca17a180786b69acc140d282b71a49"
   }
  }
 },
 "nbformat": 4,
 "nbformat_minor": 5
}
