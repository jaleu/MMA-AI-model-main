{
 "cells": [
  {
   "cell_type": "code",
   "execution_count": 1,
   "id": "4bfb241c",
   "metadata": {},
   "outputs": [],
   "source": [
    "import pandas as pd\n",
    "import re\n",
    "import numpy as np\n",
    "import seaborn as sns\n",
    "import matplotlib.pyplot as plt\n",
    "\n",
    "pd.set_option(\"display.max_columns\", None)\n"
   ]
  },
  {
   "cell_type": "code",
   "execution_count": 2,
   "id": "9195b2bc",
   "metadata": {},
   "outputs": [],
   "source": [
    "df = pd.read_csv('data_cleaned.csv')"
   ]
  },
  {
   "cell_type": "markdown",
   "id": "57f32c4c",
   "metadata": {},
   "source": [
    "# Basic Feature Creation"
   ]
  },
  {
   "cell_type": "code",
   "execution_count": 3,
   "id": "a35fca10",
   "metadata": {},
   "outputs": [],
   "source": [
    "columns = ['KD',\n",
    "       'SUB.ATT', 'REV.', 'CTRL', 'ATTEMPTED SIG.STR.', 'LANDED SIG.STR.',\n",
    "       'ATTEMPTED TOTAL STR.', 'LANDED TOTAL STR.', 'ATTEMPTED TD',\n",
    "       'LANDED TD', 'ATTEMPTED HEAD', 'LANDED HEAD', 'ATTEMPTED BODY',\n",
    "       'LANDED BODY', 'ATTEMPTED LEG', 'LANDED LEG', 'ATTEMPTED DISTANCE',\n",
    "       'LANDED DISTANCE', 'ATTEMPTED CLINCH', 'LANDED CLINCH',\n",
    "       'ATTEMPTED GROUND', 'LANDED GROUND', 'KDopp', 'SUB.ATTopp',\n",
    "       'REV.opp', 'CTRLopp', 'ATTEMPTED SIG.STR.opp', 'LANDED SIG.STR.opp',\n",
    "       'ATTEMPTED TOTAL STR.opp', 'LANDED TOTAL STR.opp', 'ATTEMPTED TDopp',\n",
    "       'LANDED TDopp', 'ATTEMPTED HEADopp', 'LANDED HEADopp',\n",
    "       'ATTEMPTED BODYopp', 'LANDED BODYopp', 'ATTEMPTED LEGopp',\n",
    "       'LANDED LEGopp', 'ATTEMPTED DISTANCEopp', 'LANDED DISTANCEopp',\n",
    "       'ATTEMPTED CLINCHopp', 'LANDED CLINCHopp', 'ATTEMPTED GROUNDopp',\n",
    "       'LANDED GROUNDopp']"
   ]
  },
  {
   "cell_type": "code",
   "execution_count": 4,
   "id": "b96fa82f",
   "metadata": {},
   "outputs": [],
   "source": [
    "dfmerged =df"
   ]
  },
  {
   "cell_type": "code",
   "execution_count": 5,
   "id": "3e3b3e34",
   "metadata": {},
   "outputs": [],
   "source": [
    "dfmerged['OUTCOME'] = dfmerged['OUTCOME'][(dfmerged['OUTCOME']!= 'D/D') & (dfmerged['OUTCOME'] != 'NC/NC')]"
   ]
  },
  {
   "cell_type": "code",
   "execution_count": 6,
   "id": "fca7505d",
   "metadata": {},
   "outputs": [],
   "source": [
    "from datetime import datetime\n",
    "dfmerged['DOB'] = pd.to_datetime(dfmerged['DOB'], format='%b %d, %Y')\n",
    "dfmerged['DOBopp'] = pd.to_datetime(dfmerged['DOBopp'], format='%b %d, %Y')\n",
    "dfmerged['DATE'] = pd.to_datetime(dfmerged['DATE'], format='%B %d, %Y')"
   ]
  },
  {
   "cell_type": "code",
   "execution_count": 7,
   "id": "198db7b5",
   "metadata": {},
   "outputs": [
    {
     "ename": "SyntaxError",
     "evalue": "unexpected EOF while parsing (Temp/ipykernel_948/3396558557.py, line 2)",
     "output_type": "error",
     "traceback": [
      "\u001b[1;36m  File \u001b[1;32m\"C:\\Users\\grey5\\AppData\\Local\\Temp/ipykernel_948/3396558557.py\"\u001b[1;36m, line \u001b[1;32m2\u001b[0m\n\u001b[1;33m    dfmerged['DOB'] = dfmerged['DOB'].apply(lambda x: x if pd.NaT else int(x.utcnow().timestamp())\u001b[0m\n\u001b[1;37m                                                                                                  ^\u001b[0m\n\u001b[1;31mSyntaxError\u001b[0m\u001b[1;31m:\u001b[0m unexpected EOF while parsing\n"
     ]
    }
   ],
   "source": [
    "dfmerged['DOB'] = dfmerged['DOB'].astype(object).where(df['DOB'].notnull(), None)\n",
    "dfmerged['DOB'] = dfmerged['DOB'].apply(lambda x: x if pd.NaT else int(x.utcnow().timestamp()))"
   ]
  },
  {
   "cell_type": "code",
   "execution_count": null,
   "id": "25829dc1",
   "metadata": {},
   "outputs": [],
   "source": [
    "dfmerged['DOBopp'] = dfmerged['DOBopp'].astype(object).where(df['DOBopp'].notnull(), None)\n",
    "dfmerged['DOBopp'] = dfmerged['DOBopp'].apply(lambda x: x if pd.NaT else int(x.utcnow().timestamp()))"
   ]
  },
  {
   "cell_type": "code",
   "execution_count": null,
   "id": "f0c9a72d",
   "metadata": {},
   "outputs": [],
   "source": [
    "dfmerged['DATE'] = dfmerged['DATE'].astype(object).where(df['DATE'].notnull(), None)\n",
    "dfmerged['DATE'] = dfmerged['DATE'].apply(lambda x: x if pd.NaT else int(x.utcnow().timestamp()))"
   ]
  },
  {
   "cell_type": "code",
   "execution_count": null,
   "id": "ed4fcd7a",
   "metadata": {},
   "outputs": [],
   "source": [
    "dfmerged['OUTCOME'] = dfmerged['OUTCOME'].astype('category')"
   ]
  },
  {
   "cell_type": "code",
   "execution_count": null,
   "id": "61ad4e79",
   "metadata": {},
   "outputs": [],
   "source": [
    "dfmerged[['EVENT', 'BOUT', 'FIGHTER','Fighter Stats URL', 'WEIGHTCLASS', 'METHOD','TIME FORMAT', 'REFEREE', 'DETAILS',\n",
    "       'Fight Result URL', 'OPPONENT', 'STANCEopp', 'STANCE','Fighter Stats URLopp', 'LOCATION']] = dfmerged[['EVENT', 'BOUT', 'FIGHTER','Fighter Stats URL', 'WEIGHTCLASS', 'METHOD','TIME FORMAT', 'REFEREE', 'DETAILS',\n",
    "       'Fight Result URL', 'OPPONENT', 'STANCEopp', 'STANCE','Fighter Stats URLopp', 'LOCATION']].astype('category')"
   ]
  },
  {
   "cell_type": "code",
   "execution_count": null,
   "id": "e2d60182",
   "metadata": {},
   "outputs": [],
   "source": [
    "cat_columns = dfmerged.select_dtypes(['category']).columns"
   ]
  },
  {
   "cell_type": "code",
   "execution_count": null,
   "id": "63512a4e",
   "metadata": {},
   "outputs": [],
   "source": [
    " dfmerged[cat_columns] = dfmerged[cat_columns].apply(lambda x: x.cat.codes)"
   ]
  },
  {
   "cell_type": "code",
   "execution_count": null,
   "id": "2074407f",
   "metadata": {},
   "outputs": [],
   "source": [
    "dfmerged['DOB'] = pd.to_numeric(pd.to_datetime(dfmerged['DOB']))\n",
    "dfmerged['DOBopp'] = pd.to_numeric(pd.to_datetime(dfmerged['DOBopp']))\n",
    "dfmerged['DATE'] = pd.to_numeric(pd.to_datetime(dfmerged['DATE']))"
   ]
  },
  {
   "cell_type": "code",
   "execution_count": null,
   "id": "0b6d44d5",
   "metadata": {},
   "outputs": [],
   "source": [
    "dfmerged['AGEdiff'] = dfmerged['DOB'] - dfmerged['DOBopp']"
   ]
  },
  {
   "cell_type": "code",
   "execution_count": null,
   "id": "a1bba20d",
   "metadata": {},
   "outputs": [],
   "source": [
    "dfmerged['relativeyouth'] = dfmerged['DATE'] - dfmerged['DOB']"
   ]
  },
  {
   "cell_type": "code",
   "execution_count": null,
   "id": "fc301a44",
   "metadata": {},
   "outputs": [],
   "source": [
    "from sklearn.model_selection import train_test_split\n",
    "from sklearn.model_selection import TimeSeriesSplit\n",
    "from tpot import TPOTClassifier\n",
    "tss = TimeSeriesSplit(n_splits = 3)\n",
    "dfmerged.set_index('DATE', inplace=True)\n",
    "dfmerged.sort_index(inplace=True)\n",
    "X = dfmerged.drop(labels=['OUTCOME', 'Fight Event URL'], axis=1)\n",
    "y = dfmerged['OUTCOME']\n",
    "for train_index, test_index in tss.split(X):\n",
    "    X_train, X_test = X.iloc[train_index, :], X.iloc[test_index,:]\n",
    "    y_train, y_test = y.iloc[train_index], y.iloc[test_index]\n"
   ]
  },
  {
   "cell_type": "code",
   "execution_count": null,
   "id": "64977e1b",
   "metadata": {},
   "outputs": [],
   "source": [
    "pipeline_optimizer = TPOTClassifier(use_dask=True, warm_start=True, n_jobs = -1, )"
   ]
  }
 ],
 "metadata": {
  "kernelspec": {
   "display_name": "Python 3 (ipykernel)",
   "language": "python",
   "name": "python3"
  },
  "language_info": {
   "codemirror_mode": {
    "name": "ipython",
    "version": 3
   },
   "file_extension": ".py",
   "mimetype": "text/x-python",
   "name": "python",
   "nbconvert_exporter": "python",
   "pygments_lexer": "ipython3",
   "version": "3.9.7"
  }
 },
 "nbformat": 4,
 "nbformat_minor": 5
}
